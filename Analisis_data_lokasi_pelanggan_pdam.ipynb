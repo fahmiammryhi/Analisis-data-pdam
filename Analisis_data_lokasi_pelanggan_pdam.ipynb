(PREPARATION)

import os
import pandas as pd
import numpy as np
import statistics
#from scipy.stats import chi2

LOAD DATA

# Library untuk visualisasi
import seaborn as sns
import matplotlib.pyplot as plt

file_path = "/content/gdrive/MyDrive/Colab Notebooks/pdam/T_HISTORI_202308100915.csv"
df = pd.read_csv(file_path)

NEW TABLE

# Load your data
file_path = "/content/gdrive/MyDrive/Colab Notebooks/pdam/T_HISTORI_202308100915.csv"
df = pd.read_csv(file_path)

display(df)

# Fungsi Pendeteksian Outlier dengan IQR
def detect_outliers_iqr(data):
    q1 = data.quantile(0.25)
    q3 = data.quantile(0.75)
    iqr = q3 - q1
    lower_bound = q1 - 1.5 * iqr
    upper_bound = q3 + 1.5 * iqr
    outliers = data[(data < lower_bound) | (data > upper_bound)]
    return outliers

# Fungsi Penghapusan Outlier dengan IQR
def remove_outliers_iqr(data):
    q1 = data.quantile(0.25)
    q3 = data.quantile(0.75)
    iqr = q3 - q1
    lower_bound = q1 - 1.5 * iqr
    upper_bound = q3 + 1.5 * iqr
    filtered_data = data[(data >= lower_bound) & (data <= upper_bound)]
    return filtered_data

# Fungsi Penghitungan Median
def calculate_median(data):
    median = data.median()
    return median

# Membuat DataFrame baru untuk hasil analisis
result_data = []

# Loop untuk menganalisis setiap Nolang
for nolang_value in df['NOLANG'].unique():
    subset_data = df[df['NOLANG'] == nolang_value]
    
    lat_outliers = detect_outliers_iqr(subset_data['LAT'])
    lon_outliers = detect_outliers_iqr(subset_data['LON'])
    
    filtered_lat = remove_outliers_iqr(subset_data[~subset_data['LAT'].isin(lat_outliers)]['LAT'])
    filtered_lon = remove_outliers_iqr(subset_data[~subset_data['LON'].isin(lon_outliers)]['LON'])
    
    median_lat = calculate_median(filtered_lat)
    median_lon = calculate_median(filtered_lon)
    
    result_data.append([nolang_value, median_lat, median_lon])

# Membuat DataFrame baru
result_df = pd.DataFrame(result_data, columns=['NOLANG', 'MLAT', 'MLON'])

# Menampilkan output DataFrame
print(result_df)
